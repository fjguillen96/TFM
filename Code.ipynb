{
  "nbformat": 4,
  "nbformat_minor": 0,
  "metadata": {
    "kernelspec": {
      "display_name": "Python 3",
      "language": "python",
      "name": "python3"
    },
    "language_info": {
      "codemirror_mode": {
        "name": "ipython",
        "version": 3
      },
      "file_extension": ".py",
      "mimetype": "text/x-python",
      "name": "python",
      "nbconvert_exporter": "python",
      "pygments_lexer": "ipython3",
      "version": "3.8.5"
    },
    "colab": {
      "name": "Code.ipynb",
      "provenance": []
    }
  },
  "cells": [
    {
      "cell_type": "code",
      "metadata": {
        "id": "EMS7QmQZE64L"
      },
      "source": [
        "import pandas as pd\n",
        "import numpy as np\n",
        "import keras\n",
        "import matplotlib.pyplot as plt\n",
        "import seaborn as sns \n",
        "from sklearn.preprocessing import LabelEncoder\n",
        "from sklearn.preprocessing import OneHotEncoder\n",
        "from sklearn.model_selection import train_test_split\n",
        "from sklearn.metrics import mean_squared_error, mean_absolute_error\n",
        "from keras.models import Sequential\n",
        "from keras.layers import Dense, Dropout\n",
        "from keras.callbacks import History\n",
        "import time"
      ],
      "execution_count": null,
      "outputs": []
    },
    {
      "cell_type": "code",
      "metadata": {
        "id": "vYRCHjzWE64Q"
      },
      "source": [
        "start_time = time.time()\n",
        "\n"
      ],
      "execution_count": null,
      "outputs": []
    },
    {
      "cell_type": "markdown",
      "metadata": {
        "id": "cHDrLH74E64Q"
      },
      "source": [
        "Se establece \"low_memory=False\", pues hay un problema dtype"
      ]
    },
    {
      "cell_type": "code",
      "metadata": {
        "id": "zipfTqXIE64Q"
      },
      "source": [
        "df = pd.read_csv('train.csv' , low_memory=False)\n",
        "\n",
        "#df_2 = pd.read_csv('test.csv' , low_memory=False)\n",
        "#Id = df_2['Id']\n",
        "#percent = df_2.shape[0]/(df_1.shape[0]+df_2.shape[0])\n",
        "#df_1 = df_1.drop(['Customers'],axis = 1)\n",
        "#df_2 = df_2.drop(['Id'],axis = 1)\n",
        "#df = pd.concat([df_1,df_2], axis = 0)\n",
        "#print(df_1.shape[0])\n",
        "#print(round(percent,5))\n",
        "#print((1-round(percent,7)) * df.shape[0])"
      ],
      "execution_count": null,
      "outputs": []
    },
    {
      "cell_type": "code",
      "metadata": {
        "id": "vo6GEsNQE64R",
        "outputId": "3a3c4ea2-2f45-4fb4-cece-9475f123e953"
      },
      "source": [
        "store = pd.read_csv('store.csv')\n",
        "print(store.shape)\n",
        "store.head(5)"
      ],
      "execution_count": null,
      "outputs": [
        {
          "output_type": "stream",
          "text": [
            "(1115, 10)\n"
          ],
          "name": "stdout"
        },
        {
          "output_type": "execute_result",
          "data": {
            "text/html": [
              "<div>\n",
              "<style scoped>\n",
              "    .dataframe tbody tr th:only-of-type {\n",
              "        vertical-align: middle;\n",
              "    }\n",
              "\n",
              "    .dataframe tbody tr th {\n",
              "        vertical-align: top;\n",
              "    }\n",
              "\n",
              "    .dataframe thead th {\n",
              "        text-align: right;\n",
              "    }\n",
              "</style>\n",
              "<table border=\"1\" class=\"dataframe\">\n",
              "  <thead>\n",
              "    <tr style=\"text-align: right;\">\n",
              "      <th></th>\n",
              "      <th>Store</th>\n",
              "      <th>StoreType</th>\n",
              "      <th>Assortment</th>\n",
              "      <th>CompetitionDistance</th>\n",
              "      <th>CompetitionOpenSinceMonth</th>\n",
              "      <th>CompetitionOpenSinceYear</th>\n",
              "      <th>Promo2</th>\n",
              "      <th>Promo2SinceWeek</th>\n",
              "      <th>Promo2SinceYear</th>\n",
              "      <th>PromoInterval</th>\n",
              "    </tr>\n",
              "  </thead>\n",
              "  <tbody>\n",
              "    <tr>\n",
              "      <th>0</th>\n",
              "      <td>1</td>\n",
              "      <td>c</td>\n",
              "      <td>a</td>\n",
              "      <td>1270.0</td>\n",
              "      <td>9.0</td>\n",
              "      <td>2008.0</td>\n",
              "      <td>0</td>\n",
              "      <td>NaN</td>\n",
              "      <td>NaN</td>\n",
              "      <td>NaN</td>\n",
              "    </tr>\n",
              "    <tr>\n",
              "      <th>1</th>\n",
              "      <td>2</td>\n",
              "      <td>a</td>\n",
              "      <td>a</td>\n",
              "      <td>570.0</td>\n",
              "      <td>11.0</td>\n",
              "      <td>2007.0</td>\n",
              "      <td>1</td>\n",
              "      <td>13.0</td>\n",
              "      <td>2010.0</td>\n",
              "      <td>Jan,Apr,Jul,Oct</td>\n",
              "    </tr>\n",
              "    <tr>\n",
              "      <th>2</th>\n",
              "      <td>3</td>\n",
              "      <td>a</td>\n",
              "      <td>a</td>\n",
              "      <td>14130.0</td>\n",
              "      <td>12.0</td>\n",
              "      <td>2006.0</td>\n",
              "      <td>1</td>\n",
              "      <td>14.0</td>\n",
              "      <td>2011.0</td>\n",
              "      <td>Jan,Apr,Jul,Oct</td>\n",
              "    </tr>\n",
              "    <tr>\n",
              "      <th>3</th>\n",
              "      <td>4</td>\n",
              "      <td>c</td>\n",
              "      <td>c</td>\n",
              "      <td>620.0</td>\n",
              "      <td>9.0</td>\n",
              "      <td>2009.0</td>\n",
              "      <td>0</td>\n",
              "      <td>NaN</td>\n",
              "      <td>NaN</td>\n",
              "      <td>NaN</td>\n",
              "    </tr>\n",
              "    <tr>\n",
              "      <th>4</th>\n",
              "      <td>5</td>\n",
              "      <td>a</td>\n",
              "      <td>a</td>\n",
              "      <td>29910.0</td>\n",
              "      <td>4.0</td>\n",
              "      <td>2015.0</td>\n",
              "      <td>0</td>\n",
              "      <td>NaN</td>\n",
              "      <td>NaN</td>\n",
              "      <td>NaN</td>\n",
              "    </tr>\n",
              "  </tbody>\n",
              "</table>\n",
              "</div>"
            ],
            "text/plain": [
              "   Store StoreType Assortment  CompetitionDistance  CompetitionOpenSinceMonth  \\\n",
              "0      1         c          a               1270.0                        9.0   \n",
              "1      2         a          a                570.0                       11.0   \n",
              "2      3         a          a              14130.0                       12.0   \n",
              "3      4         c          c                620.0                        9.0   \n",
              "4      5         a          a              29910.0                        4.0   \n",
              "\n",
              "   CompetitionOpenSinceYear  Promo2  Promo2SinceWeek  Promo2SinceYear  \\\n",
              "0                    2008.0       0              NaN              NaN   \n",
              "1                    2007.0       1             13.0           2010.0   \n",
              "2                    2006.0       1             14.0           2011.0   \n",
              "3                    2009.0       0              NaN              NaN   \n",
              "4                    2015.0       0              NaN              NaN   \n",
              "\n",
              "     PromoInterval  \n",
              "0              NaN  \n",
              "1  Jan,Apr,Jul,Oct  \n",
              "2  Jan,Apr,Jul,Oct  \n",
              "3              NaN  \n",
              "4              NaN  "
            ]
          },
          "metadata": {
            "tags": []
          },
          "execution_count": 5
        }
      ]
    },
    {
      "cell_type": "markdown",
      "metadata": {
        "id": "LzO_wfFPE64R"
      },
      "source": [
        "\"on = 'Store'\" establece que se buscarán los valores comunes en dicha columna, y no en parejas o tríos de características iguales.\n",
        "\"how='inner'\" establece que se buscarán valores comunes."
      ]
    },
    {
      "cell_type": "code",
      "metadata": {
        "id": "TurfSfZgE64S",
        "outputId": "73dd8113-8540-4ec6-f12f-7843438d9781"
      },
      "source": [
        "df_new = df.merge(store,on = ['Store'], how='inner')\n",
        "print(df_new.shape)"
      ],
      "execution_count": null,
      "outputs": [
        {
          "output_type": "stream",
          "text": [
            "(1017209, 18)\n"
          ],
          "name": "stdout"
        }
      ]
    },
    {
      "cell_type": "code",
      "metadata": {
        "id": "KF-IfVQZE64S",
        "outputId": "b5035bfc-b279-4dbb-9350-50fbe45c8da6"
      },
      "source": [
        "print(\"Distinct number of Stores :\", len(df_new[\"Store\"].unique()))\n",
        "print(\"Distinct number of Days :\", len(df_new[\"Date\"].unique()))\n",
        "print(\"Average daily sales of all stores : \",round(df_new[\"Sales\"].mean(),2))"
      ],
      "execution_count": null,
      "outputs": [
        {
          "output_type": "stream",
          "text": [
            "Distinct number of Stores : 1115\n",
            "Distinct number of Days : 942\n",
            "Average daily sales of all stores :  5773.82\n"
          ],
          "name": "stdout"
        }
      ]
    },
    {
      "cell_type": "markdown",
      "metadata": {
        "id": "IKw8qKrGE64S"
      },
      "source": [
        "## Extraemos los datos temporales de las fechas"
      ]
    },
    {
      "cell_type": "code",
      "metadata": {
        "id": "XFMiFYsKE64S",
        "outputId": "6fde2035-c203-4d97-f0a4-564e81ecf2b5"
      },
      "source": [
        "df_new['Date'] = pd.to_datetime(df_new['Date'], infer_datetime_format=True)\n",
        "df_new[\"Month\"] = df_new[\"Date\"].dt.month\n",
        "df_new[\"Quarter\"] = df_new[\"Date\"].dt.quarter\n",
        "df_new[\"Year\"] = df_new[\"Date\"].dt.year\n",
        "df_new[\"Day\"] = df_new[\"Date\"].dt.day\n",
        "df_new[\"Week\"] = df_new[\"Date\"].dt.isocalendar().week\n",
        "\n",
        "df_new[\"Season\"] = np.where(df_new[\"Month\"].isin([3,4,5]),\"Spring\",\n",
        "np.where(df_new[\"Month\"].isin([6,7,8]),\"Summer\",\n",
        "np.where(df_new[\"Month\"].isin([9,10,11]),\"Fall\",\n",
        "np.where(df_new[\"Month\"].isin([12,1,2]),\"Winter\",\"None\"))))\n",
        "\n",
        "print(df_new[[\"Date\",\"Year\",\"Month\",\"Day\",\"Week\",\"Quarter\",\"Season\"]].head())"
      ],
      "execution_count": null,
      "outputs": [
        {
          "output_type": "stream",
          "text": [
            "        Date  Year  Month  Day  Week  Quarter  Season\n",
            "0 2015-07-31  2015      7   31    31        3  Summer\n",
            "1 2015-07-30  2015      7   30    31        3  Summer\n",
            "2 2015-07-29  2015      7   29    31        3  Summer\n",
            "3 2015-07-28  2015      7   28    31        3  Summer\n",
            "4 2015-07-27  2015      7   27    31        3  Summer\n"
          ],
          "name": "stdout"
        }
      ]
    },
    {
      "cell_type": "markdown",
      "metadata": {
        "id": "Yq-pnPKKE64T"
      },
      "source": [
        "## Predicción"
      ]
    },
    {
      "cell_type": "code",
      "metadata": {
        "id": "ddSw4qlyE64T",
        "outputId": "3e4be3d9-b8c0-43ae-b916-1038df27a155"
      },
      "source": [
        "plt.figure(figsize=(15,8))\n",
        "plt.hist(df_new[\"Sales\"])\n",
        "plt.title(\"Histogram for Store Sales\")\n",
        "plt.xlabel(\"bins\")\n",
        "plt.xlabel(\"Frequency\")\n",
        "plt.show()"
      ],
      "execution_count": null,
      "outputs": [
        {
          "output_type": "display_data",
          "data": {
            "image/png": "[encoded data removed]",
            "text/plain": [
              "<Figure size 1080x576 with 1 Axes>"
            ]
          },
          "metadata": {
            "tags": [],
            "needs_background": "light"
          }
        }
      ]
    },
    {
      "cell_type": "markdown",
      "metadata": {
        "id": "b2lratS0E64T"
      },
      "source": [
        "Sacamos los nulos"
      ]
    },
    {
      "cell_type": "code",
      "metadata": {
        "id": "GFe0b6dgE64T",
        "outputId": "57f5039a-5ff4-4d5c-e35e-fa648f0a62cf"
      },
      "source": [
        "df_new.isnull().sum()"
      ],
      "execution_count": null,
      "outputs": [
        {
          "output_type": "execute_result",
          "data": {
            "text/plain": [
              "Store                             0\n",
              "DayOfWeek                         0\n",
              "Date                              0\n",
              "Sales                             0\n",
              "Customers                         0\n",
              "Open                              0\n",
              "Promo                             0\n",
              "StateHoliday                      0\n",
              "SchoolHoliday                     0\n",
              "StoreType                         0\n",
              "Assortment                        0\n",
              "CompetitionDistance            2642\n",
              "CompetitionOpenSinceMonth    323348\n",
              "CompetitionOpenSinceYear     323348\n",
              "Promo2                            0\n",
              "Promo2SinceWeek              508031\n",
              "Promo2SinceYear              508031\n",
              "PromoInterval                508031\n",
              "Month                             0\n",
              "Quarter                           0\n",
              "Year                              0\n",
              "Day                               0\n",
              "Week                              0\n",
              "Season                            0\n",
              "dtype: int64"
            ]
          },
          "metadata": {
            "tags": []
          },
          "execution_count": 10
        }
      ]
    },
    {
      "cell_type": "markdown",
      "metadata": {
        "id": "sOciXZcNE64U"
      },
      "source": [
        "Lo pasamos a porcentaje para visualizarlo mejor"
      ]
    },
    {
      "cell_type": "code",
      "metadata": {
        "id": "F2rBZ69OE64U",
        "outputId": "d0f166b3-3824-4f25-8601-f588cb80b01d"
      },
      "source": [
        "df_new.isnull().sum()/df_new.shape[0] * 100"
      ],
      "execution_count": null,
      "outputs": [
        {
          "output_type": "execute_result",
          "data": {
            "text/plain": [
              "Store                         0.000000\n",
              "DayOfWeek                     0.000000\n",
              "Date                          0.000000\n",
              "Sales                         0.000000\n",
              "Customers                     0.000000\n",
              "Open                          0.000000\n",
              "Promo                         0.000000\n",
              "StateHoliday                  0.000000\n",
              "SchoolHoliday                 0.000000\n",
              "StoreType                     0.000000\n",
              "Assortment                    0.000000\n",
              "CompetitionDistance           0.259730\n",
              "CompetitionOpenSinceMonth    31.787764\n",
              "CompetitionOpenSinceYear     31.787764\n",
              "Promo2                        0.000000\n",
              "Promo2SinceWeek              49.943620\n",
              "Promo2SinceYear              49.943620\n",
              "PromoInterval                49.943620\n",
              "Month                         0.000000\n",
              "Quarter                       0.000000\n",
              "Year                          0.000000\n",
              "Day                           0.000000\n",
              "Week                          0.000000\n",
              "Season                        0.000000\n",
              "dtype: float64"
            ]
          },
          "metadata": {
            "tags": []
          },
          "execution_count": 11
        }
      ]
    },
    {
      "cell_type": "code",
      "metadata": {
        "id": "lyijntx-E64U",
        "outputId": "1f55c660-b65c-450f-9c81-13759a636093"
      },
      "source": [
        "df_new[\"CompetitionDistance\"]=df_new[\"CompetitionDistance\"].fillna(df_new[\"CompetitionDistance\"].mode()[0])\n",
        "df_new[\"CompetitionDistance\"].isnull().sum()/df_new.shape[0] * 100"
      ],
      "execution_count": null,
      "outputs": [
        {
          "output_type": "execute_result",
          "data": {
            "text/plain": [
              "0.0"
            ]
          },
          "metadata": {
            "tags": []
          },
          "execution_count": 12
        }
      ]
    },
    {
      "cell_type": "markdown",
      "metadata": {
        "id": "JegJrra6E64U"
      },
      "source": [
        "## Más visualización para entender los datos"
      ]
    },
    {
      "cell_type": "code",
      "metadata": {
        "id": "nElB8ew6E64U",
        "outputId": "b12c04db-fc03-4b51-9db5-2acaab4077d3"
      },
      "source": [
        "sns.set(style=\"whitegrid\")\n",
        "ax = sns.barplot(x=\"Season\", y=\"Sales\", data=df_new)"
      ],
      "execution_count": null,
      "outputs": [
        {
          "output_type": "display_data",
          "data": {
            "image/png": "[encoded data removed]",
            "text/plain": [
              "<Figure size 432x288 with 1 Axes>"
            ]
          },
          "metadata": {
            "tags": []
          }
        }
      ]
    },
    {
      "cell_type": "code",
      "metadata": {
        "id": "2Ide3OexE64V",
        "outputId": "8c6c98e2-955e-4e2e-f003-e7c203e3af91"
      },
      "source": [
        "ax = sns.barplot(x=\"Assortment\", y=\"Sales\", data=df_new)"
      ],
      "execution_count": null,
      "outputs": [
        {
          "output_type": "display_data",
          "data": {
            "image/png": "[encoded data removed]",
            "text/plain": [
              "<Figure size 432x288 with 1 Axes>"
            ]
          },
          "metadata": {
            "tags": []
          }
        }
      ]
    },
    {
      "cell_type": "code",
      "metadata": {
        "id": "Y5K28XrME64V",
        "outputId": "a2d46963-f41f-4188-add7-45b41eb7f699"
      },
      "source": [
        "ax = sns.barplot(x=\"StoreType\", y=\"Sales\", data=df_new)"
      ],
      "execution_count": null,
      "outputs": [
        {
          "output_type": "display_data",
          "data": {
            "image/png": "[encoded data removed]",
            "text/plain": [
              "<Figure size 432x288 with 1 Axes>"
            ]
          },
          "metadata": {
            "tags": []
          }
        }
      ]
    },
    {
      "cell_type": "code",
      "metadata": {
        "id": "LIr1kHExE64V",
        "outputId": "77f3c246-0cf9-4379-939e-ea5a8824894a"
      },
      "source": [
        "ax = sns.barplot(x=\"Season\", y=\"Sales\", data=df_new,estimator=np.size)"
      ],
      "execution_count": null,
      "outputs": [
        {
          "output_type": "display_data",
          "data": {
            "image/png": "[encoded data removed]",
            "text/plain": [
              "<Figure size 432x288 with 1 Axes>"
            ]
          },
          "metadata": {
            "tags": []
          }
        }
      ]
    },
    {
      "cell_type": "code",
      "metadata": {
        "id": "nn87OYVZE64V",
        "outputId": "b25cc5ba-5799-403c-8371-0e5a0f84578e"
      },
      "source": [
        "ax = sns.barplot(x=\"Assortment\", y=\"Sales\", data=df_new,estimator=np.size)"
      ],
      "execution_count": null,
      "outputs": [
        {
          "output_type": "display_data",
          "data": {
            "image/png": "[encoded data removed]",
            "text/plain": [
              "<Figure size 432x288 with 1 Axes>"
            ]
          },
          "metadata": {
            "tags": []
          }
        }
      ]
    },
    {
      "cell_type": "code",
      "metadata": {
        "id": "NUOhh3RmE64V",
        "outputId": "06e56373-4f63-4154-b2d0-832ed93575ca"
      },
      "source": [
        "ax = sns.barplot(x=\"StoreType\", y=\"Sales\", data=df_new,estimator=np.size)"
      ],
      "execution_count": null,
      "outputs": [
        {
          "output_type": "display_data",
          "data": {
            "image/png": "[encoded data removed]",
            "text/plain": [
              "<Figure size 432x288 with 1 Axes>"
            ]
          },
          "metadata": {
            "tags": []
          }
        }
      ]
    },
    {
      "cell_type": "markdown",
      "metadata": {
        "id": "DiWDAcSyE64W"
      },
      "source": [
        "## Pasamos a variable dummy de una forma distinta (Manual)"
      ]
    },
    {
      "cell_type": "code",
      "metadata": {
        "id": "DPmym4LuE64W"
      },
      "source": [
        "target = [\"Sales\"]\n",
        "numeric_columns = [\"Customers\",\"Open\",\"Promo\",\"Promo2\",\n",
        "\"StateHoliday\",\"SchoolHoliday\",\"CompetitionDistance\"]\n",
        "categorical_columns = [\"DayOfWeek\",\"Quarter\",\"Month\",\"Year\",\n",
        "\"StoreType\",\"Assortment\",\"Season\"]"
      ],
      "execution_count": null,
      "outputs": []
    },
    {
      "cell_type": "code",
      "metadata": {
        "id": "u9k7vW57E64W"
      },
      "source": [
        "def create_ohe(df, col):\n",
        "    \n",
        "    le = LabelEncoder()\n",
        "    a=le.fit_transform(df[col]).reshape(-1,1)\n",
        "    ohe = OneHotEncoder(sparse=False)\n",
        "    column_names = [col+ \"_\"+ str(i) for i in le.classes_]\n",
        "\n",
        "    return(pd.DataFrame(ohe.fit_transform(a),columns =column_names))"
      ],
      "execution_count": null,
      "outputs": []
    },
    {
      "cell_type": "code",
      "metadata": {
        "id": "KQWDkjF6E64W"
      },
      "source": [
        "temp = df_new[numeric_columns]\n",
        "for column in categorical_columns:\n",
        "    temp_df = create_ohe(df_new,column)\n",
        "    temp = pd.concat([temp,temp_df],axis=1)"
      ],
      "execution_count": null,
      "outputs": []
    },
    {
      "cell_type": "code",
      "metadata": {
        "id": "aX3cCA_dE64W",
        "outputId": "72795b94-a6b5-4f58-ca7a-d5dc84162cdb"
      },
      "source": [
        "print(\"Shape of Data:\",temp.shape)\n",
        "print(\"Distinct Datatypes:\",temp.dtypes.unique())"
      ],
      "execution_count": null,
      "outputs": [
        {
          "output_type": "stream",
          "text": [
            "Shape of Data: (1017209, 44)\n",
            "Distinct Datatypes: [dtype('int64') dtype('O') dtype('float64')]\n"
          ],
          "name": "stdout"
        }
      ]
    },
    {
      "cell_type": "code",
      "metadata": {
        "id": "9jFxA1cpE64X",
        "outputId": "b574102f-72da-4043-85a3-0f1a11585684"
      },
      "source": [
        "temp[\"StateHoliday\"]= np.where(temp[\"StateHoliday\"]== '0',0,1)\n",
        "temp.dtypes.unique()"
      ],
      "execution_count": null,
      "outputs": [
        {
          "output_type": "execute_result",
          "data": {
            "text/plain": [
              "array([dtype('int64'), dtype('int32'), dtype('float64')], dtype=object)"
            ]
          },
          "metadata": {
            "tags": []
          },
          "execution_count": 23
        }
      ]
    },
    {
      "cell_type": "code",
      "metadata": {
        "id": "dP-_r1Z_E64X"
      },
      "source": [
        "x_train, x_test, y_train, y_test = train_test_split(temp,df_new[target],test_size = 0.2,random_state=2018)\n",
        "x_train, x_val, y_train, y_val = train_test_split(x_train,y_train,test_size=0.1,random_state=2018)"
      ],
      "execution_count": null,
      "outputs": []
    },
    {
      "cell_type": "markdown",
      "metadata": {
        "id": "20K0nQxmE64X"
      },
      "source": [
        "## Datos del dataset"
      ]
    },
    {
      "cell_type": "code",
      "metadata": {
        "id": "V3Fpc5OfE64X",
        "outputId": "0ceb5aa2-48a7-4872-eeb8-acd43ca65d82"
      },
      "source": [
        "mean_sales = y_train.mean()\n",
        "print(\"Average Sales :\",mean_sales)\n",
        "print(\"MAE for Test Data:\",abs(y_test - mean_sales).mean()[0])"
      ],
      "execution_count": null,
      "outputs": [
        {
          "output_type": "stream",
          "text": [
            "Average Sales : Sales    5773.099997\n",
            "dtype: float64\n",
            "MAE for Test Data: 2883.587604303127\n"
          ],
          "name": "stdout"
        }
      ]
    },
    {
      "cell_type": "markdown",
      "metadata": {
        "id": "5-x9bj0OE64X"
      },
      "source": [
        "## NN\n",
        "\n",
        "### Rule 1: Start with small architectures\n",
        "\n",
        "In the case of DNNs, it is always advised to\n",
        "start with a single-layer network with around\n",
        "100–300 neurons. Train the network and measure\n",
        "performance using the defined metrics (while\n",
        "defining the baseline score). If the results are not\n",
        "encouraging, try adding one more layer with the\n",
        "same number of neurons and repeating the process.\n",
        "\n",
        "### Rule 2: When small architectures (with two layers) fail, increase the size\n",
        "\n",
        "When the results from small networks are not\n",
        "great, you need to increase the number of neurons\n",
        "in layers by three to five times (i.e., around 1,000\n",
        "neurons in each layer). Also, increase regularization to 0.3, 0.4,\n",
        "or 0.5 for both layers and repeat the process for\n",
        "training and performance measurement.\n",
        "\n",
        "### Rule 3: When larger networks with two layers fail, go deeper\n",
        "\n",
        "Try increasing the depth of the network with more\n",
        "and more layers while maintaining regularization with\n",
        "dropout layers (if required) after each dense (or your\n",
        "selected layer) with a dropout rate between 0.2 and 0.5.\n",
        "\n",
        "### Rule 4: When larger and deeper networks also fail, go even larger and even deeper\n",
        "\n",
        "In case large networks with ~1000 neurons and five\n",
        "or six layers also don’t give the desired performance,\n",
        "try increasing the width and depth of the network.\n",
        "Try adding layers with 8,000–10,000 neurons per\n",
        "layer and a dropout of 0.6 to 0.8.\n",
        "\n",
        "### Rule 5: When everything fails, revisit the data\n",
        "\n",
        "If all the aforementioned rules fail, revisit the\n",
        "data for improved feature engineering and\n",
        "normalization, and then you will need to try other\n",
        "ML alternatives."
      ]
    },
    {
      "cell_type": "code",
      "metadata": {
        "id": "kQB2IVyoE64Y",
        "outputId": "ce598562-393f-4565-c484-101dd828a758"
      },
      "source": [
        "model = Sequential()\n",
        "model.add(Dense(150,input_dim = 44,activation=\"relu\"))\n",
        "model.add(Dense(1,activation = \"linear\"))\n",
        "model.compile(optimizer='adam',loss=\"mean_absolute_error\",metrics=[\"mean_absolute_error\"])\n",
        "model.fit(x_train.values,y_train.values, validation_data=(x_val,y_val),epochs=10,batch_size=64)"
      ],
      "execution_count": null,
      "outputs": [
        {
          "output_type": "stream",
          "text": [
            "Epoch 1/10\n",
            "11444/11444 [==============================] - 5s 396us/step - loss: 961.1186 - mean_absolute_error: 961.1186 - val_loss: 860.9684 - val_mean_absolute_error: 860.9684\n",
            "Epoch 2/10\n",
            "11444/11444 [==============================] - 4s 377us/step - loss: 795.7559 - mean_absolute_error: 795.7559 - val_loss: 754.7706 - val_mean_absolute_error: 754.7706\n",
            "Epoch 3/10\n",
            "11444/11444 [==============================] - 4s 370us/step - loss: 740.3012 - mean_absolute_error: 740.3012 - val_loss: 769.4826 - val_mean_absolute_error: 769.4826\n",
            "Epoch 4/10\n",
            "11444/11444 [==============================] - 4s 372us/step - loss: 721.8868 - mean_absolute_error: 721.8868 - val_loss: 709.6592 - val_mean_absolute_error: 709.6592\n",
            "Epoch 5/10\n",
            "11444/11444 [==============================] - 4s 371us/step - loss: 712.3972 - mean_absolute_error: 712.3972 - val_loss: 706.5714 - val_mean_absolute_error: 706.5714\n",
            "Epoch 6/10\n",
            "11444/11444 [==============================] - 4s 391us/step - loss: 706.2375 - mean_absolute_error: 706.2375 - val_loss: 699.2800 - val_mean_absolute_error: 699.2800\n",
            "Epoch 7/10\n",
            "11444/11444 [==============================] - 4s 376us/step - loss: 700.2007 - mean_absolute_error: 700.2007 - val_loss: 691.3296 - val_mean_absolute_error: 691.3296\n",
            "Epoch 8/10\n",
            "11444/11444 [==============================] - 4s 372us/step - loss: 695.7495 - mean_absolute_error: 695.7495 - val_loss: 706.9513 - val_mean_absolute_error: 706.9513\n",
            "Epoch 9/10\n",
            "11444/11444 [==============================] - 4s 364us/step - loss: 691.2906 - mean_absolute_error: 691.2906 - val_loss: 685.9824 - val_mean_absolute_error: 685.9824\n",
            "Epoch 10/10\n",
            "11444/11444 [==============================] - 4s 371us/step - loss: 685.5994 - mean_absolute_error: 685.5994 - val_loss: 681.0327 - val_mean_absolute_error: 681.0327\n"
          ],
          "name": "stdout"
        },
        {
          "output_type": "execute_result",
          "data": {
            "text/plain": [
              "<tensorflow.python.keras.callbacks.History at 0x21100dacfd0>"
            ]
          },
          "metadata": {
            "tags": []
          },
          "execution_count": 26
        }
      ]
    },
    {
      "cell_type": "code",
      "metadata": {
        "id": "4C7_NfnlE64Y",
        "outputId": "a82a71bd-dc01-47db-82da-e79f665b0b2e"
      },
      "source": [
        "result = model.evaluate(x_test.values,y_test.values)\n",
        "\n",
        "for i in range(len(model.metrics_names)):\n",
        "    print(\"Metric \",model.metrics_names[i],\":\",str(round(result[i],2)))"
      ],
      "execution_count": null,
      "outputs": [
        {
          "output_type": "stream",
          "text": [
            "6358/6358 [==============================] - 3s 494us/step - loss: 676.7065 - mean_absolute_error: 676.7065\n",
            "Metric  loss : 676.71\n",
            "Metric  mean_absolute_error : 676.71\n"
          ],
          "name": "stdout"
        }
      ]
    },
    {
      "cell_type": "markdown",
      "metadata": {
        "id": "W4YBm7tPE64Y"
      },
      "source": [
        "### Improve Model (add layers)"
      ]
    },
    {
      "cell_type": "code",
      "metadata": {
        "id": "ytmx5dBNE64Y",
        "outputId": "321e9434-181e-4c12-d470-cd47c71877fa"
      },
      "source": [
        "model = Sequential()\n",
        "model.add(Dense(150,input_dim = 44,activation=\"relu\"))\n",
        "model.add(Dense(150,activation=\"relu\"))\n",
        "model.add(Dense(150,activation=\"relu\"))\n",
        "model.add(Dense(1,activation = \"linear\"))\n",
        "model.compile(optimizer='adam',loss=\"mean_squared_error\",metrics=[\"mean_absolute_error\"])\n",
        "\n",
        "history = model.fit(x_train,y_train, validation_data=(x_val,y_val),epochs=10,batch_size=64)\n",
        "\n",
        "for i in range(len(model.metrics_names)):\n",
        "    print(\"Metric \",model.metrics_names[i],\":\",str(round(result[i],2)))"
      ],
      "execution_count": null,
      "outputs": [
        {
          "output_type": "stream",
          "text": [
            "Epoch 1/10\n",
            "11444/11444 [==============================] - 7s 578us/step - loss: 1730599.2500 - mean_absolute_error: 848.6553 - val_loss: 1226346.1250 - val_mean_absolute_error: 748.8177\n",
            "Epoch 2/10\n",
            "11444/11444 [==============================] - 6s 565us/step - loss: 1142727.0000 - mean_absolute_error: 717.3476 - val_loss: 1104444.0000 - val_mean_absolute_error: 717.0127\n",
            "Epoch 3/10\n",
            "11444/11444 [==============================] - 6s 554us/step - loss: 1090533.1250 - mean_absolute_error: 701.5511 - val_loss: 996292.0625 - val_mean_absolute_error: 677.9256\n",
            "Epoch 4/10\n",
            "11444/11444 [==============================] - 6s 553us/step - loss: 1056826.1250 - mean_absolute_error: 690.8472 - val_loss: 1040928.6875 - val_mean_absolute_error: 691.2471\n",
            "Epoch 5/10\n",
            "11444/11444 [==============================] - 6s 557us/step - loss: 1033628.0625 - mean_absolute_error: 683.4324 - val_loss: 1020236.2500 - val_mean_absolute_error: 688.2455\n",
            "Epoch 6/10\n",
            "11444/11444 [==============================] - 6s 556us/step - loss: 1010585.6250 - mean_absolute_error: 675.8905 - val_loss: 1022260.1875 - val_mean_absolute_error: 680.7363\n",
            "Epoch 7/10\n",
            "11444/11444 [==============================] - 6s 557us/step - loss: 986277.3125 - mean_absolute_error: 668.3042 - val_loss: 1041794.4375 - val_mean_absolute_error: 681.8220\n",
            "Epoch 8/10\n",
            "11444/11444 [==============================] - 6s 557us/step - loss: 964724.7500 - mean_absolute_error: 662.1337 - val_loss: 1024729.7500 - val_mean_absolute_error: 683.2509\n",
            "Epoch 9/10\n",
            "11444/11444 [==============================] - 6s 552us/step - loss: 949475.8750 - mean_absolute_error: 657.5021 - val_loss: 994395.3750 - val_mean_absolute_error: 684.9654\n",
            "Epoch 10/10\n",
            "11444/11444 [==============================] - 6s 558us/step - loss: 931365.5625 - mean_absolute_error: 651.7272 - val_loss: 895710.4375 - val_mean_absolute_error: 642.8244\n",
            "Metric  loss : 676.71\n",
            "Metric  mean_absolute_error : 676.71\n"
          ],
          "name": "stdout"
        }
      ]
    },
    {
      "cell_type": "markdown",
      "metadata": {
        "id": "q9aENUVzE64Z"
      },
      "source": [
        "### More Improve Model (add epochs)"
      ]
    },
    {
      "cell_type": "code",
      "metadata": {
        "id": "vn7E0tdkE64Z",
        "outputId": "e3ff2ccd-c5dc-457d-aad2-c31e5a5cba4e"
      },
      "source": [
        "model = Sequential()\n",
        "model.add(Dense(150,input_dim = 44,activation=\"relu\"))\n",
        "model.add(Dense(150,activation=\"relu\"))\n",
        "model.add(Dense(150,activation=\"relu\"))\n",
        "model.add(Dense(150,activation=\"relu\"))\n",
        "model.add(Dense(150,activation=\"relu\"))\n",
        "model.add(Dense(1,activation = \"linear\"))\n",
        "model.compile(optimizer='adam',loss=\"mean_squared_error\",metrics=[\"mean_absolute_error\"])\n",
        "model.fit(x_train,y_train, validation_data=(x_val,y_val),epochs=15,batch_size=64).result = model.evaluate(x_test,y_test)\n",
        "\n",
        "for i in range(len(model.metrics_names)):\n",
        "    print(\"Metric \",model.metrics_names[i],\":\",str(round(result[i],2)))"
      ],
      "execution_count": null,
      "outputs": [
        {
          "output_type": "stream",
          "text": [
            "6358/6358 [==============================] - 2s 365us/step - loss: 48186952.0000 - mean_absolute_error: 5786.9692\n",
            "Epoch 1/15\n",
            "11444/11444 [==============================] - 8s 733us/step - loss: 1683182.3750 - mean_absolute_error: 846.3138 - val_loss: 1104687.1250 - val_mean_absolute_error: 714.8472\n",
            "Epoch 2/15\n",
            "11444/11444 [==============================] - 9s 784us/step - loss: 1181532.3750 - mean_absolute_error: 726.8267 - val_loss: 1130299.2500 - val_mean_absolute_error: 736.3859\n",
            "Epoch 3/15\n",
            "11444/11444 [==============================] - 9s 765us/step - loss: 1107073.8750 - mean_absolute_error: 704.4227 - val_loss: 1254839.1250 - val_mean_absolute_error: 738.8007\n",
            "Epoch 4/15\n",
            "11444/11444 [==============================] - 8s 721us/step - loss: 1063683.6250 - mean_absolute_error: 690.5197 - val_loss: 995846.8125 - val_mean_absolute_error: 667.1672\n",
            "Epoch 5/15\n",
            "11444/11444 [==============================] - 9s 794us/step - loss: 1036072.1875 - mean_absolute_error: 682.6133 - val_loss: 941849.6875 - val_mean_absolute_error: 657.8590\n",
            "Epoch 6/15\n",
            "11444/11444 [==============================] - 9s 793us/step - loss: 1019571.6875 - mean_absolute_error: 678.0250 - val_loss: 974449.2500 - val_mean_absolute_error: 671.7915\n",
            "Epoch 7/15\n",
            "11444/11444 [==============================] - 9s 802us/step - loss: 995665.9375 - mean_absolute_error: 670.9023 - val_loss: 1009779.9375 - val_mean_absolute_error: 673.5780\n",
            "Epoch 8/15\n",
            "11444/11444 [==============================] - 10s 854us/step - loss: 975013.9375 - mean_absolute_error: 664.2241 - val_loss: 967505.5000 - val_mean_absolute_error: 658.4922\n",
            "Epoch 9/15\n",
            "11444/11444 [==============================] - 9s 780us/step - loss: 962568.7500 - mean_absolute_error: 660.5060 - val_loss: 948985.8750 - val_mean_absolute_error: 683.1638\n",
            "Epoch 10/15\n",
            "11444/11444 [==============================] - 9s 794us/step - loss: 941542.3750 - mean_absolute_error: 653.9684 - val_loss: 1203333.7500 - val_mean_absolute_error: 747.2607\n",
            "Epoch 11/15\n",
            "11444/11444 [==============================] - 9s 790us/step - loss: 924262.3125 - mean_absolute_error: 648.2314 - val_loss: 901289.5000 - val_mean_absolute_error: 647.9429\n",
            "Epoch 12/15\n",
            "11444/11444 [==============================] - 9s 785us/step - loss: 911643.0000 - mean_absolute_error: 643.5382 - val_loss: 870262.4375 - val_mean_absolute_error: 630.6488\n",
            "Epoch 13/15\n",
            "11444/11444 [==============================] - 9s 790us/step - loss: 895877.0625 - mean_absolute_error: 637.7855 - val_loss: 857382.8750 - val_mean_absolute_error: 633.8419\n",
            "Epoch 14/15\n",
            "11444/11444 [==============================] - 9s 790us/step - loss: 881434.1875 - mean_absolute_error: 632.0012 - val_loss: 844247.3125 - val_mean_absolute_error: 620.1338\n",
            "Epoch 15/15\n",
            "11444/11444 [==============================] - 9s 785us/step - loss: 880535.6250 - mean_absolute_error: 632.0088 - val_loss: 844277.2500 - val_mean_absolute_error: 629.2245\n",
            "Metric  loss : 676.71\n",
            "Metric  mean_absolute_error : 676.71\n"
          ],
          "name": "stdout"
        }
      ]
    },
    {
      "cell_type": "markdown",
      "metadata": {
        "id": "L-30muZKE64Z"
      },
      "source": [
        "### More More Improve Model (add neurons)"
      ]
    },
    {
      "cell_type": "code",
      "metadata": {
        "id": "Dr58S952E64Z",
        "outputId": "cb3f3f1c-be8f-48ee-af95-2244bab86c05"
      },
      "source": [
        "model = Sequential()\n",
        "model.add(Dense(350,input_dim = 44,activation=\"relu\"))\n",
        "model.add(Dense(350,activation=\"relu\"))\n",
        "model.add(Dense(1,activation = \"linear\"))\n",
        "model.compile(optimizer='adam',loss=\"mean_squared_error\",metrics=[\"mean_absolute_error\"])\n",
        "model.fit(x_train,y_train, validation_data=(x_val,y_val),epochs=15,batch_size=64)\n",
        "\n",
        "result = model.evaluate(x_test,y_test)\n",
        "\n",
        "for i in range(len(model.metrics_names)):\n",
        "    print(\"Metric \",model.metrics_names[i],\":\",\n",
        "    str(round(result[i],2)))"
      ],
      "execution_count": null,
      "outputs": [
        {
          "output_type": "stream",
          "text": [
            "Epoch 1/15\n",
            "11444/11444 [==============================] - 9s 748us/step - loss: 1699883.3750 - mean_absolute_error: 848.5432 - val_loss: 1274952.6250 - val_mean_absolute_error: 753.5364\n",
            "Epoch 2/15\n",
            "11444/11444 [==============================] - 8s 740us/step - loss: 1157892.6250 - mean_absolute_error: 726.4339 - val_loss: 1246858.3750 - val_mean_absolute_error: 733.8165\n",
            "Epoch 3/15\n",
            "11444/11444 [==============================] - 8s 694us/step - loss: 1086869.7500 - mean_absolute_error: 701.9226 - val_loss: 996254.0000 - val_mean_absolute_error: 673.5339\n",
            "Epoch 4/15\n",
            "11444/11444 [==============================] - 8s 685us/step - loss: 1048456.8750 - mean_absolute_error: 688.9476 - val_loss: 1031146.1875 - val_mean_absolute_error: 694.5947\n",
            "Epoch 5/15\n",
            "11444/11444 [==============================] - 8s 675us/step - loss: 1029791.7500 - mean_absolute_error: 682.6410 - val_loss: 1039524.6250 - val_mean_absolute_error: 683.5433\n",
            "Epoch 6/15\n",
            "11444/11444 [==============================] - 8s 693us/step - loss: 1005908.1250 - mean_absolute_error: 674.3059 - val_loss: 1016457.8125 - val_mean_absolute_error: 685.9103\n",
            "Epoch 7/15\n",
            "11444/11444 [==============================] - 8s 678us/step - loss: 990787.1875 - mean_absolute_error: 669.0540 - val_loss: 933502.7500 - val_mean_absolute_error: 653.0780\n",
            "Epoch 8/15\n",
            "11444/11444 [==============================] - 8s 688us/step - loss: 971004.5000 - mean_absolute_error: 663.0637 - val_loss: 897473.7500 - val_mean_absolute_error: 643.6218\n",
            "Epoch 9/15\n",
            "11444/11444 [==============================] - 8s 692us/step - loss: 953313.7500 - mean_absolute_error: 657.3687 - val_loss: 894500.0000 - val_mean_absolute_error: 645.3041\n",
            "Epoch 10/15\n",
            "11444/11444 [==============================] - 8s 705us/step - loss: 943367.8125 - mean_absolute_error: 654.2036 - val_loss: 931242.9375 - val_mean_absolute_error: 650.4371\n",
            "Epoch 11/15\n",
            "11444/11444 [==============================] - 8s 679us/step - loss: 928045.1250 - mean_absolute_error: 649.3092 - val_loss: 890457.3125 - val_mean_absolute_error: 640.7373\n",
            "Epoch 12/15\n",
            "11444/11444 [==============================] - 8s 695us/step - loss: 918077.0625 - mean_absolute_error: 646.1628 - val_loss: 874942.8125 - val_mean_absolute_error: 633.4020\n",
            "Epoch 13/15\n",
            "11444/11444 [==============================] - 8s 692us/step - loss: 905770.6250 - mean_absolute_error: 642.1630 - val_loss: 933247.5625 - val_mean_absolute_error: 654.4874\n",
            "Epoch 14/15\n",
            "11444/11444 [==============================] - 8s 675us/step - loss: 898725.2500 - mean_absolute_error: 639.5115 - val_loss: 909949.0000 - val_mean_absolute_error: 653.6691\n",
            "Epoch 15/15\n",
            "11444/11444 [==============================] - 8s 672us/step - loss: 888888.1875 - mean_absolute_error: 636.0057 - val_loss: 996436.1250 - val_mean_absolute_error: 670.5215\n",
            "6358/6358 [==============================] - 2s 330us/step - loss: 997402.8125 - mean_absolute_error: 667.1077: 1s - loss: 1015420.8750 - m\n",
            "Metric  loss : 997402.81\n",
            "Metric  mean_absolute_error : 667.11\n"
          ],
          "name": "stdout"
        }
      ]
    },
    {
      "cell_type": "markdown",
      "metadata": {
        "id": "_2liKYaME64a"
      },
      "source": [
        "#### Let us now try deeper models for the same architecture. Additionally, we add a new optional configuration to the model to record the history of various metrics during the training process. This can be done by adding the callbacks parameter"
      ]
    },
    {
      "cell_type": "code",
      "metadata": {
        "id": "J3UN6suQE64a",
        "outputId": "f8c6e83c-47a6-4101-d823-89b07721537f"
      },
      "source": [
        "history = History()\n",
        "\n",
        "model = Sequential()\n",
        "model.add(Dense(350,input_dim = 44,activation=\"relu\"))\n",
        "model.add(Dense(350,activation=\"relu\"))\n",
        "model.add(Dense(350,activation=\"relu\"))\n",
        "model.add(Dense(350,activation=\"relu\"))\n",
        "model.add(Dense(350,activation=\"relu\"))\n",
        "model.add(Dense(1,activation = \"linear\"))\n",
        "model.compile(optimizer='adam',loss=\"mean_squared_error\",metrics=[\"mean_absolute_error\"])\n",
        "model.fit(x_train,y_train, validation_data=(x_val,y_val),epochs=15,batch_size=64,callbacks=[history])\n",
        "\n",
        "result = model.evaluate(x_test,y_test)\n",
        "\n",
        "for i in range(len(model.metrics_names)):\n",
        "    print(\"Metric \",model.metrics_names[i],\":\",str(round(result[i],2)))"
      ],
      "execution_count": null,
      "outputs": [
        {
          "output_type": "stream",
          "text": [
            "Epoch 1/15\n",
            "11444/11444 [==============================] - 18s 2ms/step - loss: 1645673.0000 - mean_absolute_error: 841.8300 - val_loss: 1257902.2500 - val_mean_absolute_error: 729.9356\n",
            "Epoch 2/15\n",
            "11444/11444 [==============================] - 21s 2ms/step - loss: 1183580.2500 - mean_absolute_error: 728.8044 - val_loss: 1017998.3125 - val_mean_absolute_error: 686.4440\n",
            "Epoch 3/15\n",
            "11444/11444 [==============================] - 21s 2ms/step - loss: 1106133.3750 - mean_absolute_error: 704.2567 - val_loss: 1032089.6250 - val_mean_absolute_error: 689.7532\n",
            "Epoch 4/15\n",
            "11444/11444 [==============================] - 21s 2ms/step - loss: 1067089.7500 - mean_absolute_error: 691.5518 - val_loss: 1000440.0625 - val_mean_absolute_error: 689.6218\n",
            "Epoch 5/15\n",
            "11444/11444 [==============================] - 21s 2ms/step - loss: 1032345.6875 - mean_absolute_error: 680.9220 - val_loss: 1116507.0000 - val_mean_absolute_error: 725.3052\n",
            "Epoch 6/15\n",
            "11444/11444 [==============================] - 21s 2ms/step - loss: 1011224.5625 - mean_absolute_error: 674.0525 - val_loss: 977827.6250 - val_mean_absolute_error: 664.8503\n",
            "Epoch 7/15\n",
            "11444/11444 [==============================] - 21s 2ms/step - loss: 981544.5000 - mean_absolute_error: 665.3851 - val_loss: 927183.9375 - val_mean_absolute_error: 649.0889\n",
            "Epoch 8/15\n",
            "11444/11444 [==============================] - 22s 2ms/step - loss: 962440.5000 - mean_absolute_error: 659.8118 - val_loss: 937079.6250 - val_mean_absolute_error: 654.8411\n",
            "Epoch 9/15\n",
            "11444/11444 [==============================] - 21s 2ms/step - loss: 938647.2500 - mean_absolute_error: 651.8757 - val_loss: 949460.3125 - val_mean_absolute_error: 659.8105\n",
            "Epoch 10/15\n",
            "11444/11444 [==============================] - 21s 2ms/step - loss: 918363.6875 - mean_absolute_error: 644.9198 - val_loss: 941727.8750 - val_mean_absolute_error: 651.3177\n",
            "Epoch 11/15\n",
            "11444/11444 [==============================] - 22s 2ms/step - loss: 897004.3125 - mean_absolute_error: 637.5024 - val_loss: 865338.0000 - val_mean_absolute_error: 631.6639\n",
            "Epoch 12/15\n",
            "11444/11444 [==============================] - 22s 2ms/step - loss: 874790.6875 - mean_absolute_error: 629.2524 - val_loss: 810062.0000 - val_mean_absolute_error: 607.3464\n",
            "Epoch 13/15\n",
            "11444/11444 [==============================] - 22s 2ms/step - loss: 862066.0625 - mean_absolute_error: 624.8263 - val_loss: 970618.4375 - val_mean_absolute_error: 676.1572\n",
            "Epoch 14/15\n",
            "11444/11444 [==============================] - 22s 2ms/step - loss: 845609.1875 - mean_absolute_error: 618.8740 - val_loss: 902768.5000 - val_mean_absolute_error: 646.4842\n",
            "Epoch 15/15\n",
            "11444/11444 [==============================] - 22s 2ms/step - loss: 838410.2500 - mean_absolute_error: 615.5038 - val_loss: 781400.4375 - val_mean_absolute_error: 596.8223\n",
            "6358/6358 [==============================] - 3s 468us/step - loss: 781031.2500 - mean_absolute_error: 593.3815\n",
            "Metric  loss : 781031.25\n",
            "Metric  mean_absolute_error : 593.38\n"
          ],
          "name": "stdout"
        }
      ]
    },
    {
      "cell_type": "markdown",
      "metadata": {
        "id": "4AWxriZWE64a"
      },
      "source": [
        "### Plot"
      ]
    },
    {
      "cell_type": "code",
      "metadata": {
        "id": "0u-U9YZZE64a",
        "outputId": "c771963f-d852-4dee-d021-ced81b6bdf5f"
      },
      "source": [
        "plt.plot(history.history['loss'])\n",
        "plt.plot(history.history['val_loss'])\n",
        "plt.title(\"Model's Training & Validation loss across epochs\")\n",
        "plt.ylabel('Loss')\n",
        "plt.xlabel('Epochs')\n",
        "plt.legend(['Train', 'Validation'], loc='upper right')\n",
        "plt.show()"
      ],
      "execution_count": null,
      "outputs": [
        {
          "output_type": "display_data",
          "data": {
            "image/png": "[encoded data removed]",
            "text/plain": [
              "<Figure size 432x288 with 1 Axes>"
            ]
          },
          "metadata": {
            "tags": []
          }
        }
      ]
    },
    {
      "cell_type": "markdown",
      "metadata": {
        "id": "PIMXvbC1E64a"
      },
      "source": [
        "### Checking"
      ]
    },
    {
      "cell_type": "code",
      "metadata": {
        "id": "uz5R7nlfE64b",
        "outputId": "1d83b711-da1f-40bc-b42f-a2f9e0d58c58"
      },
      "source": [
        "#Aquí se añade una columna, ['nombre'], por tanto ahora se tiene las columnas Sales (de antes) y Prediction\n",
        "y_test[\"Prediction\"] = model.predict(x_test)\n",
        "\n",
        "#Aquí se hace un rename de las existentes, .columns, por tanto ahora se tiene las columnas Actual Sales y Predicted Sales\n",
        "y_test.columns = [\"Actual Sales\",\"Predicted Sales\"]\n",
        "print(y_test.head(10))\n",
        "\n",
        "print(\"MSE :\",mean_squared_error(y_test[\"Actual Sales\"].values,y_test[\"Predicted Sales\"].values))\n",
        "print(\"MAE :\",mean_absolute_error(y_test[\"Actual Sales\"].values,y_test[\"Predicted Sales\"].values))"
      ],
      "execution_count": null,
      "outputs": [
        {
          "output_type": "stream",
          "text": [
            "        Actual Sales  Predicted Sales\n",
            "115563             0         1.621428\n",
            "832654             0         1.621428\n",
            "769112          2933      3306.596680\n",
            "350588          8602      7844.391113\n",
            "141556          6975      6798.960938\n",
            "84435           9239      8900.984375\n",
            "53018              0         1.621428\n",
            "262419             0         1.621428\n",
            "702267          5885      5451.757324\n",
            "981431             0         1.621428\n",
            "MSE : 781031.8012541613\n",
            "MAE : 593.3813909641311\n"
          ],
          "name": "stdout"
        }
      ]
    },
    {
      "cell_type": "code",
      "metadata": {
        "id": "yxXS6HyYE64b",
        "outputId": "1028d3a0-fb6b-42ac-c323-aa77a6f23f6d"
      },
      "source": [
        "print(\"--- %s seconds ---\" % (time.time() - start_time))"
      ],
      "execution_count": null,
      "outputs": [
        {
          "output_type": "stream",
          "text": [
            "--- 748.2278015613556 seconds ---\n"
          ],
          "name": "stdout"
        }
      ]
    },
    {
      "cell_type": "code",
      "metadata": {
        "id": "s3yNp3uyE64b"
      },
      "source": [
        ""
      ],
      "execution_count": null,
      "outputs": []
    }
  ]
}